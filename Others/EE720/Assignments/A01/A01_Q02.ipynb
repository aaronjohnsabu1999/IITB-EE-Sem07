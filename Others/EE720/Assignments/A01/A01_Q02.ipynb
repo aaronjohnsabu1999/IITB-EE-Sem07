{
 "cells": [
  {
   "cell_type": "markdown",
   "metadata": {
    "colab_type": "text",
    "id": "ZFXkt0mbq5S_"
   },
   "source": [
    "Consider the initializing number to be 84210, which when converted to binary gives us 1000-0100-0010-0001-0000"
   ]
  },
  {
   "cell_type": "code",
   "execution_count": 1,
   "metadata": {
    "colab": {},
    "colab_type": "code",
    "id": "S6HVIImHPDUS"
   },
   "outputs": [],
   "source": [
    "# https://stackoverflow.com/a/59480049/6539635\n",
    "def rotation(list, newVal):\n",
    "    r = len(list)\n",
    "    lenVal = list[r-1]\n",
    "    list[1:r] = list[0:r-1]\n",
    "    list[0]   = newVal\n",
    "    return list, lenVal\n",
    "    \n",
    "num = 84210\n",
    "bin = \"10000100001000010000\""
   ]
  },
  {
   "cell_type": "markdown",
   "metadata": {
    "colab_type": "text",
    "id": "raFtQXT8rLM8"
   },
   "source": [
    "We take `X` to consist of the second to the seventh numbers in `bin`, `Y` to consist of the next 6, and `Z` to consist of the last 6."
   ]
  },
  {
   "cell_type": "code",
   "execution_count": 2,
   "metadata": {
    "colab": {
     "base_uri": "https://localhost:8080/",
     "height": 68
    },
    "colab_type": "code",
    "id": "rfQva9WAaRnA",
    "outputId": "647762c5-0861-44d6-fd10-aea484de2448"
   },
   "outputs": [
    {
     "name": "stdout",
     "output_type": "stream",
     "text": [
      "[0, 0, 0, 0, 1, 0, 0]\n",
      "[0, 0, 1, 0, 0, 0]\n",
      "[0, 1, 0, 0, 0, 0]\n"
     ]
    }
   ],
   "source": [
    "X = [int(xi) for xi in list(bin[1:8])]\n",
    "Y = [int(yi) for yi in list(bin[8:14])]\n",
    "Z = [int(zi) for zi in list(bin[14:20])]\n",
    "print(X)\n",
    "print(Y)\n",
    "print(Z)"
   ]
  },
  {
   "cell_type": "markdown",
   "metadata": {
    "colab_type": "text",
    "id": "96BeZ_DUrdHl"
   },
   "source": [
    "We define three variables which represent the output after the three-input XORs following each shift register: `x0`, `y0`, `z0`; we also define `w` which is the XORed value from the outputs of the three-input XORs."
   ]
  },
  {
   "cell_type": "code",
   "execution_count": 3,
   "metadata": {
    "colab": {
     "base_uri": "https://localhost:8080/",
     "height": 34
    },
    "colab_type": "code",
    "id": "joSKabNmaSqA",
    "outputId": "aebd8801-f190-4bd5-d32e-0b5a8baf7710"
   },
   "outputs": [
    {
     "name": "stdout",
     "output_type": "stream",
     "text": [
      "(0, 0, 1, 1)\n"
     ]
    }
   ],
   "source": [
    "x0 = (X[2] + X[4]*X[5] + X[6]) % 2\n",
    "y0 = (Y[1] + Y[4]*Y[5] + Y[5]) % 2\n",
    "z0 = (Z[1] + Z[4]*Z[5] + Z[5]) % 2\n",
    "w  = (x0 + y0 + z0) % 2\n",
    "print((x0, y0, z0, w))"
   ]
  },
  {
   "cell_type": "markdown",
   "metadata": {
    "colab_type": "text",
    "id": "dn5px8NerxWK"
   },
   "source": [
    "Here, we compute the key and store values of `w` as the output from iterations 20 to 39. The resulting key is printed by the console"
   ]
  },
  {
   "cell_type": "code",
   "execution_count": 4,
   "metadata": {
    "colab": {
     "base_uri": "https://localhost:8080/",
     "height": 34
    },
    "colab_type": "code",
    "id": "tZ-PxCYSlluo",
    "outputId": "a98dd695-504c-40a0-f046-2bec20876355"
   },
   "outputs": [
    {
     "name": "stdout",
     "output_type": "stream",
     "text": [
      "10110100000011111101\n"
     ]
    }
   ],
   "source": [
    "values = []\n",
    "stream = \"\"\n",
    "for i in range(40):\n",
    "  x0 = (X[2] + X[4]*X[5] + X[6]) % 2\n",
    "  y0 = (Y[1] + Y[4]*Y[5] + Y[5]) % 2\n",
    "  z0 = (Z[1] + Z[4]*Z[5] + Z[5]) % 2\n",
    "  w  = (x0 + y0 + z0) % 2\n",
    "  \n",
    "  x7 = (X[3] + z0) % 2\n",
    "  y6 = (Y[3] + x0) % 2\n",
    "  z6 = (Z[2] + y0) % 2\n",
    "  \n",
    "  X, _ = rotation(X, x7)\n",
    "  Y, _ = rotation(Y, y6)\n",
    "  Z, _ = rotation(Z, z6)\n",
    "  if i >= 20:\n",
    "    values.append(str(w))\n",
    "\n",
    "# https://www.geeksforgeeks.org/python-program-to-convert-a-list-to-string/\n",
    "stream = stream.join(values)\n",
    "print(stream)"
   ]
  }
 ],
 "metadata": {
  "colab": {
   "collapsed_sections": [],
   "name": "EE720 A02 Q02",
   "provenance": []
  },
  "kernelspec": {
   "display_name": "Python 3",
   "language": "python",
   "name": "python3"
  },
  "language_info": {
   "codemirror_mode": {
    "name": "ipython",
    "version": 3
   },
   "file_extension": ".py",
   "mimetype": "text/x-python",
   "name": "python",
   "nbconvert_exporter": "python",
   "pygments_lexer": "ipython3",
   "version": "3.7.3"
  }
 },
 "nbformat": 4,
 "nbformat_minor": 1
}
